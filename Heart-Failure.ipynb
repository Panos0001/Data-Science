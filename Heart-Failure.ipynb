{
 "cells": [
  {
   "cell_type": "markdown",
   "metadata": {},
   "source": [
    "# Questions\n",
    "\n",
    "- Age\n",
    "- Gender\n",
    "- ChestPainType\n",
    "- RestingBP\n",
    "- Cholesterol\n",
    "- FastingBS\n",
    "- RestingECG\n",
    "- MaxHR\n",
    "- ExerciseAngina\n",
    "- Oldpeak"
   ]
  },
  {
   "cell_type": "code",
   "execution_count": 2,
   "metadata": {},
   "outputs": [],
   "source": [
    "import pandas as pd\n",
    "import matplotlib.pyplot as plt\n",
    "import numpy as np"
   ]
  },
  {
   "cell_type": "code",
   "execution_count": 6,
   "metadata": {},
   "outputs": [
    {
     "data": {
      "text/html": [
       "<div>\n",
       "<style scoped>\n",
       "    .dataframe tbody tr th:only-of-type {\n",
       "        vertical-align: middle;\n",
       "    }\n",
       "\n",
       "    .dataframe tbody tr th {\n",
       "        vertical-align: top;\n",
       "    }\n",
       "\n",
       "    .dataframe thead th {\n",
       "        text-align: right;\n",
       "    }\n",
       "</style>\n",
       "<table border=\"1\" class=\"dataframe\">\n",
       "  <thead>\n",
       "    <tr style=\"text-align: right;\">\n",
       "      <th></th>\n",
       "      <th>Age</th>\n",
       "      <th>Sex</th>\n",
       "      <th>ChestPainType</th>\n",
       "      <th>RestingBP</th>\n",
       "      <th>Cholesterol</th>\n",
       "      <th>FastingBS</th>\n",
       "      <th>RestingECG</th>\n",
       "      <th>MaxHR</th>\n",
       "      <th>ExerciseAngina</th>\n",
       "      <th>Oldpeak</th>\n",
       "      <th>ST_Slope</th>\n",
       "      <th>HeartDisease</th>\n",
       "    </tr>\n",
       "  </thead>\n",
       "  <tbody>\n",
       "    <tr>\n",
       "      <th>0</th>\n",
       "      <td>40</td>\n",
       "      <td>M</td>\n",
       "      <td>ATA</td>\n",
       "      <td>140</td>\n",
       "      <td>289</td>\n",
       "      <td>0</td>\n",
       "      <td>Normal</td>\n",
       "      <td>172</td>\n",
       "      <td>N</td>\n",
       "      <td>0.0</td>\n",
       "      <td>Up</td>\n",
       "      <td>0</td>\n",
       "    </tr>\n",
       "    <tr>\n",
       "      <th>1</th>\n",
       "      <td>49</td>\n",
       "      <td>F</td>\n",
       "      <td>NAP</td>\n",
       "      <td>160</td>\n",
       "      <td>180</td>\n",
       "      <td>0</td>\n",
       "      <td>Normal</td>\n",
       "      <td>156</td>\n",
       "      <td>N</td>\n",
       "      <td>1.0</td>\n",
       "      <td>Flat</td>\n",
       "      <td>1</td>\n",
       "    </tr>\n",
       "    <tr>\n",
       "      <th>2</th>\n",
       "      <td>37</td>\n",
       "      <td>M</td>\n",
       "      <td>ATA</td>\n",
       "      <td>130</td>\n",
       "      <td>283</td>\n",
       "      <td>0</td>\n",
       "      <td>ST</td>\n",
       "      <td>98</td>\n",
       "      <td>N</td>\n",
       "      <td>0.0</td>\n",
       "      <td>Up</td>\n",
       "      <td>0</td>\n",
       "    </tr>\n",
       "    <tr>\n",
       "      <th>3</th>\n",
       "      <td>48</td>\n",
       "      <td>F</td>\n",
       "      <td>ASY</td>\n",
       "      <td>138</td>\n",
       "      <td>214</td>\n",
       "      <td>0</td>\n",
       "      <td>Normal</td>\n",
       "      <td>108</td>\n",
       "      <td>Y</td>\n",
       "      <td>1.5</td>\n",
       "      <td>Flat</td>\n",
       "      <td>1</td>\n",
       "    </tr>\n",
       "    <tr>\n",
       "      <th>4</th>\n",
       "      <td>54</td>\n",
       "      <td>M</td>\n",
       "      <td>NAP</td>\n",
       "      <td>150</td>\n",
       "      <td>195</td>\n",
       "      <td>0</td>\n",
       "      <td>Normal</td>\n",
       "      <td>122</td>\n",
       "      <td>N</td>\n",
       "      <td>0.0</td>\n",
       "      <td>Up</td>\n",
       "      <td>0</td>\n",
       "    </tr>\n",
       "  </tbody>\n",
       "</table>\n",
       "</div>"
      ],
      "text/plain": [
       "   Age Sex ChestPainType  RestingBP  Cholesterol  FastingBS RestingECG  MaxHR  \\\n",
       "0   40   M           ATA        140          289          0     Normal    172   \n",
       "1   49   F           NAP        160          180          0     Normal    156   \n",
       "2   37   M           ATA        130          283          0         ST     98   \n",
       "3   48   F           ASY        138          214          0     Normal    108   \n",
       "4   54   M           NAP        150          195          0     Normal    122   \n",
       "\n",
       "  ExerciseAngina  Oldpeak ST_Slope  HeartDisease  \n",
       "0              N      0.0       Up             0  \n",
       "1              N      1.0     Flat             1  \n",
       "2              N      0.0       Up             0  \n",
       "3              Y      1.5     Flat             1  \n",
       "4              N      0.0       Up             0  "
      ]
     },
     "execution_count": 6,
     "metadata": {},
     "output_type": "execute_result"
    }
   ],
   "source": [
    "df = pd.read_csv('heart.csv')\n",
    "\n",
    "df.head()"
   ]
  },
  {
   "cell_type": "code",
   "execution_count": 39,
   "metadata": {},
   "outputs": [],
   "source": [
    "ls = []\n",
    "\n",
    "for a in range(len(df[\"Age\"])):\n",
    "\n",
    "    if df[\"Age\"].duplicated().loc[a] == False:\n",
    "\n",
    "        ls.append(df[\"Age\"].loc[a])\n",
    "\n",
    "# print(ls)\n",
    "# print(len(ls))\n"
   ]
  },
  {
   "cell_type": "code",
   "execution_count": 40,
   "metadata": {},
   "outputs": [],
   "source": [
    "dic_Age = dict.fromkeys(ls , 0)\n",
    "\n",
    "# dic_Age"
   ]
  },
  {
   "cell_type": "code",
   "execution_count": 41,
   "metadata": {},
   "outputs": [],
   "source": [
    "df.fillna(0, inplace = True)\n",
    "\n",
    "for a in range(len(df[\"Age\"])):\n",
    "\n",
    "    for b in range(len(ls)):\n",
    "\n",
    "        if ls[b] == df[\"Age\"].loc[a]:\n",
    "\n",
    "            dic_Age[ls[b]] = 1 + dic_Age[ls[b]]\n",
    "\n",
    "# print(dic_Age)"
   ]
  },
  {
   "cell_type": "markdown",
   "metadata": {},
   "source": [
    "# The Graph below shows the age most people will die due to heart failure"
   ]
  },
  {
   "cell_type": "code",
   "execution_count": 42,
   "metadata": {},
   "outputs": [
    {
     "name": "stdout",
     "output_type": "stream",
     "text": [
      "[40, 49, 37, 48, 54, 39, 45, 58, 42, 38, 43, 60, 36, 44, 53, 52, 51, 56, 41, 32, 65, 35, 59, 50, 47, 31, 46, 57, 55, 63, 66, 34, 33, 61, 29, 62, 28, 30, 74, 68, 72, 64, 69, 67, 73, 70, 77, 75, 76, 71]\n"
     ]
    },
    {
     "data": {
      "image/png": "[encoded data removed]",
      "text/plain": [
       "<Figure size 432x288 with 1 Axes>"
      ]
     },
     "metadata": {
      "needs_background": "light"
     },
     "output_type": "display_data"
    }
   ],
   "source": [
    "print(ls)\n",
    "x = list(dic_Age.keys())\n",
    "y = list(dic_Age.values())\n",
    "plt.bar(x , y)\n",
    "plt.title(\"Age at heart failures\")\n",
    "plt.xlabel(\"Age\")\n",
    "plt.ylabel(\"Lives\")\n",
    "plt.show()"
   ]
  },
  {
   "cell_type": "markdown",
   "metadata": {},
   "source": [
    "# This is the probability on dieing (gender)"
   ]
  },
  {
   "cell_type": "code",
   "execution_count": 68,
   "metadata": {},
   "outputs": [
    {
     "data": {
      "image/png": "[encoded data removed]",
      "text/plain": [
       "<Figure size 432x288 with 1 Axes>"
      ]
     },
     "metadata": {},
     "output_type": "display_data"
    },
    {
     "name": "stdout",
     "output_type": "stream",
     "text": [
      "\n"
     ]
    }
   ],
   "source": [
    "Male = 0\n",
    "\n",
    "Female = 0\n",
    "\n",
    "LablesMF = [\"Male\" , \"Female\"]\n",
    "\n",
    "for a in range(len(df[\"Sex\"])):\n",
    "\n",
    "    if df[\"Sex\"].loc[a] == \"M\" :\n",
    "\n",
    "        Male = Male + 1\n",
    "\n",
    "    if df[\"Sex\"].loc[a] == \"F\" :\n",
    "\n",
    "        Female = Female + 1\n",
    "\n",
    "Gender = np.array([725 , 193])\n",
    "\n",
    "legend_properties = {'weight':'bold'}\n",
    "\n",
    "plt.pie(Gender , labels = LablesMF , colors= [\"#039BE5\" , \"#AB47BC\"], autopct='%1.0f%%')\n",
    "plt.legend(title = \"Gender\" , prop=legend_properties)\n",
    "plt.show()\n",
    "print()\n"
   ]
  },
  {
   "cell_type": "markdown",
   "metadata": {},
   "source": [
    "# ChestPainType"
   ]
  },
  {
   "cell_type": "code",
   "execution_count": 71,
   "metadata": {},
   "outputs": [
    {
     "data": {
      "text/plain": [
       "{'ASY', 'ATA', 'NAP', 'TA'}"
      ]
     },
     "execution_count": 71,
     "metadata": {},
     "output_type": "execute_result"
    }
   ],
   "source": [
    "ChestPainType = set(df[\"ChestPainType\"])\n",
    "\n",
    "#ChestPainType"
   ]
  },
  {
   "cell_type": "code",
   "execution_count": 72,
   "metadata": {},
   "outputs": [
    {
     "name": "stdout",
     "output_type": "stream",
     "text": [
      "496\n",
      "173\n",
      "203\n",
      "46\n"
     ]
    }
   ],
   "source": [
    "ASY= 0\n",
    "ATA = 0\n",
    "NAP = 0\n",
    "TA = 0\n",
    "\n",
    "for a in range(len(df[\"ChestPainType\"])):\n",
    "\n",
    "    if df[\"ChestPainType\"].loc[a] == \"ASY\":\n",
    "\n",
    "        ASY = ASY + 1\n",
    "\n",
    "    if df[\"ChestPainType\"].loc[a] == \"ATA\":\n",
    "\n",
    "        ATA = ATA + 1\n",
    "\n",
    "    if df[\"ChestPainType\"].loc[a] == \"NAP\":\n",
    "\n",
    "        NAP = NAP + 1\n",
    "\n",
    "    if df[\"ChestPainType\"].loc[a] == \"TA\":\n",
    "\n",
    "        TA = TA + 1\n",
    "\n",
    "\n",
    "# print(ASY)\n",
    "# print(ATA)\n",
    "# print(NAP)\n",
    "# print(TA)\n",
    "\n"
   ]
  },
  {
   "cell_type": "code",
   "execution_count": 79,
   "metadata": {},
   "outputs": [
    {
     "data": {
      "image/png": "[encoded data removed]",
      "text/plain": [
       "<Figure size 432x288 with 1 Axes>"
      ]
     },
     "metadata": {},
     "output_type": "display_data"
    },
    {
     "name": "stdout",
     "output_type": "stream",
     "text": [
      "\n"
     ]
    }
   ],
   "source": [
    "ChestPainTypeNum = [496 , 173 , 203 , 46]\n",
    "LablesChestPainTypeLable = [\"ASY\" , \"ATA\" , \"NAP\" , \"TA\"]\n",
    "\n",
    "\n",
    "plt.pie(ChestPainTypeNum , labels = LablesChestPainTypeLable ,  autopct='%1.0f%%' , colors=[\"#039BE5\" , \"#AB47BC\" , \"#4CAF50\" , \"#FF7043\" ])\n",
    "plt.legend(title = \"Chest Pain Type\" , prop=legend_properties)\n",
    "plt.show()\n",
    "print()"
   ]
  }
 ],
 "metadata": {
  "interpreter": {
   "hash": "f430caa677cdf8500e28c75c2f5a56e347b7ca4157d491f856ac58b0f7ee59a8"
  },
  "kernelspec": {
   "display_name": "Python 3.9.6 64-bit ('venv': venv)",
   "language": "python",
   "name": "python3"
  },
  "language_info": {
   "codemirror_mode": {
    "name": "ipython",
    "version": 3
   },
   "file_extension": ".py",
   "mimetype": "text/x-python",
   "name": "python",
   "nbconvert_exporter": "python",
   "pygments_lexer": "ipython3",
   "version": "3.9.6"
  },
  "orig_nbformat": 4
 },
 "nbformat": 4,
 "nbformat_minor": 2
}
